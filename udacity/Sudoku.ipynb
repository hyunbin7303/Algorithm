{
 "cells": [
  {
   "cell_type": "markdown",
   "metadata": {},
   "source": [
    "### Algorithm Approach.\n",
    "\n",
    "1. Traverse the given matric square.\n",
    "2. Check if each row of the square array stores only unique values from the range [1, n] or not\n",
    "3. Check if each column of the square array stores unique values from the range[1,n] or not.\n",
    "4. If any of the above conditions is not satisfied, then return False.\n",
    "5. Otherwise, print True.\n",
    "    "
   ]
  },
  {
   "cell_type": "code",
   "execution_count": null,
   "metadata": {},
   "outputs": [],
   "source": [
    "def check_sudoku(square):\n",
    "    for row in square:\n",
    "        \n",
    "        # need to check that each number in the row is in the list and remove the numbers from the list once they are verified to ensure that each number only occurs once in the row.\n",
    "        \n",
    "        \n",
    "        \n",
    "        # for n in range(len(square[0])):\n",
    "            \n",
    "            \n",
    "            \n",
    "            \n",
    "        return Ture\n",
    "        "
   ]
  }
 ],
 "metadata": {
  "kernelspec": {
   "display_name": "Python 3",
   "language": "python",
   "name": "python3"
  },
  "language_info": {
   "codemirror_mode": {
    "name": "ipython",
    "version": 3
   },
   "file_extension": ".py",
   "mimetype": "text/x-python",
   "name": "python",
   "nbconvert_exporter": "python",
   "pygments_lexer": "ipython3",
   "version": "3.8.3"
  }
 },
 "nbformat": 4,
 "nbformat_minor": 4
}
