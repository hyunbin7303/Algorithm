{
 "cells": [
  {
   "cell_type": "code",
   "execution_count": 1,
   "metadata": {},
   "outputs": [
    {
     "name": "stdout",
     "output_type": "stream",
     "text": [
      "The value of item is: 0\n",
      "The value of item is: 1\n",
      "The value of item is: 2\n",
      "The value of item is: 3\n",
      "The value of item is: 4\n",
      "The value of item is: 5\n",
      "The index value is: 0. The value at i is: 0\n",
      "The index value is: 1. The value at i is: 1\n",
      "The index value is: 2. The value at i is: 2\n",
      "The index value is: 3. The value at i is: 3\n",
      "The index value is: 4. The value at i is: 4\n",
      "The index value is: 5. The value at i is: 5\n",
      "0\n",
      "1\n",
      "2\n",
      "3\n",
      "4\n",
      "5\n",
      "6\n",
      "7\n",
      "8\n",
      "9\n",
      "a, jill\n",
      "b, tom\n",
      "c, tim\n"
     ]
    }
   ],
   "source": [
    "# Examples of iteration with for loops.\n",
    "\n",
    "my_list = [0, 1, 2, 3, 4, 5]\n",
    "\n",
    "# Print each value in my_list. Note you can use the \"in\" keyword to iterate over a list.\n",
    "for item in my_list:\n",
    "    print('The value of item is: ' + str(item))\n",
    "\n",
    "# Print each index and value pair.\n",
    "for i, value in enumerate(my_list):\n",
    "    print('The index value is: ' + str(i) + '. The value at i is: ' + str(value))\n",
    "\n",
    "# Print each number from 0 to 9 using a while loop.\n",
    "i = 0\n",
    "while(i < 10):\n",
    "    print(i)\n",
    "    i += 1\n",
    "\n",
    "# Print each key and dictionary value. Note that you can use the \"in\" keyword \n",
    "# to iterate over dictionary keys.\n",
    "my_dict = {'a': 'jill', 'b': 'tom', 'c': 'tim'}\n",
    "for key in my_dict:\n",
    "    print(key + ', ' + my_dict[key])"
   ]
  },
  {
   "cell_type": "code",
   "execution_count": null,
   "metadata": {},
   "outputs": [],
   "source": []
  }
 ],
 "metadata": {
  "kernelspec": {
   "display_name": "Python 3",
   "language": "python",
   "name": "python3"
  },
  "language_info": {
   "codemirror_mode": {
    "name": "ipython",
    "version": 3
   },
   "file_extension": ".py",
   "mimetype": "text/x-python",
   "name": "python",
   "nbconvert_exporter": "python",
   "pygments_lexer": "ipython3",
   "version": "3.8.3"
  }
 },
 "nbformat": 4,
 "nbformat_minor": 4
}
